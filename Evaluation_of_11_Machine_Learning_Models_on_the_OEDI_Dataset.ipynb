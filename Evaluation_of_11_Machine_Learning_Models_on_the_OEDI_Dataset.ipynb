{
  "cells": [
    {
      "cell_type": "markdown",
      "metadata": {
        "id": "view-in-github",
        "colab_type": "text"
      },
      "source": [
        "<a href=\"https://colab.research.google.com/github/Adam-Aber/Evaluation-of-11-Machine-Learning-Models-on-the-OEDI-Dataset/blob/main/Evaluation_of_11_Machine_Learning_Models_on_the_OEDI_Dataset.ipynb\" target=\"_parent\"><img src=\"https://colab.research.google.com/assets/colab-badge.svg\" alt=\"Open In Colab\"/></a>"
      ]
    },
    {
      "cell_type": "code",
      "execution_count": null,
      "metadata": {
        "colab": {
          "base_uri": "https://localhost:8080/"
        },
        "id": "YC_BBGhXdauD",
        "outputId": "ad1d1746-e1a7-4764-8a80-d946e81a8310"
      },
      "outputs": [
        {
          "name": "stderr",
          "output_type": "stream",
          "text": [
            "<ipython-input-6-d9fd1dd67040>:7: FutureWarning: Downcasting behavior in `replace` is deprecated and will be removed in a future version. To retain the old behavior, explicitly call `result.infer_objects(copy=False)`. To opt-in to the future behavior, set `pd.set_option('future.no_silent_downcasting', True)`\n",
            "  converted_df = df.replace({True: 1, False: 0})\n"
          ]
        }
      ],
      "source": [
        "import pandas as pd\n",
        "from sklearn.model_selection import train_test_split\n",
        "from sklearn.metrics import classification_report, confusion_matrix\n",
        "\n",
        "df = pd.read_csv(\"cleaned_oedi_dataset.csv\")\n",
        "\n",
        "# Here I convert the TRUE / FALSE of the one-hot encoding to 1s and 0s\n",
        "converted_df = df.replace({True: 1, False: 0})\n",
        "converted_df.to_csv('converted_dataset.csv', index=False)"
      ]
    },
    {
      "cell_type": "code",
      "execution_count": null,
      "metadata": {
        "colab": {
          "base_uri": "https://localhost:8080/"
        },
        "id": "g_yJcdTcDxON",
        "outputId": "c5b15d5d-e102-48d0-8422-fe3e442b908c"
      },
      "outputs": [
        {
          "output_type": "stream",
          "name": "stdout",
          "text": [
            "Training set shape: (448524, 24)\n",
            "Testing set shape: (112131, 24)\n",
            "Class distribution in training set:\n",
            "theft_binary\n",
            "0    0.59185\n",
            "1    0.40815\n",
            "Name: proportion, dtype: float64\n",
            "Class distribution in testing set:\n",
            "theft_binary\n",
            "0    0.591852\n",
            "1    0.408148\n",
            "Name: proportion, dtype: float64\n"
          ]
        }
      ],
      "source": [
        "import pandas as pd\n",
        "from sklearn.model_selection import train_test_split\n",
        "from sklearn.metrics import classification_report, confusion_matrix\n",
        "\n",
        "df_encoded = pd.read_csv(\"converted_dataset.csv\")\n",
        "\n",
        "\n",
        "X = df_encoded.drop(columns=[\"theft_binary\"]) # I specify that the features are all columns except the label column\n",
        "y = df_encoded[\"theft_binary\"]  # This is the label / target we have for theft detection\n",
        "\n",
        "df_encoded = df_encoded.dropna(subset=['theft_binary'])\n",
        "X = df_encoded.drop(columns=[\"theft_binary\"])\n",
        "y = df_encoded[\"theft_binary\"]\n",
        "\n",
        "X_train, X_test, y_train, y_test = train_test_split(\n",
        "    X, y, test_size=0.2, random_state=42, stratify=y  # I use this extra argument stratify to keep the proportions the same\n",
        ")\n",
        "\n",
        "print(f\"Training set shape: {X_train.shape}\")\n",
        "print(f\"Testing set shape: {X_test.shape}\")\n",
        "print(f\"Class distribution in training set:\\n{y_train.value_counts(normalize=True)}\")\n",
        "print(f\"Class distribution in testing set:\\n{y_test.value_counts(normalize=True)}\")"
      ]
    },
    {
      "cell_type": "code",
      "execution_count": null,
      "metadata": {
        "colab": {
          "base_uri": "https://localhost:8080/"
        },
        "id": "_eU5Z0bK0kow",
        "outputId": "2d804ddd-e085-422f-d750-81638e2e1ff4"
      },
      "outputs": [
        {
          "output_type": "stream",
          "name": "stdout",
          "text": [
            "Decision Tree Classification Report:\n",
            "              precision    recall  f1-score   support\n",
            "\n",
            "      Normal       0.93      0.94      0.94     66365\n",
            "       Theft       0.91      0.90      0.91     45766\n",
            "\n",
            "    accuracy                           0.92    112131\n",
            "   macro avg       0.92      0.92      0.92    112131\n",
            "weighted avg       0.92      0.92      0.92    112131\n",
            "\n",
            "\n",
            "Confusion Matrix:\n",
            "[[62319  4046]\n",
            " [ 4588 41178]]\n"
          ]
        }
      ],
      "source": [
        "# Decision Tree\n",
        "\n",
        "from sklearn.tree import DecisionTreeClassifier\n",
        "\n",
        "dt_model = DecisionTreeClassifier(random_state=42)\n",
        "\n",
        "dt_model.fit(X_train, y_train)\n",
        "\n",
        "y_pred_dt = dt_model.predict(X_test)\n",
        "\n",
        "print(\"Decision Tree Classification Report:\")\n",
        "print(classification_report(y_test, y_pred_dt, target_names=[\"Normal\", \"Theft\"]))\n",
        "print(\"\\nConfusion Matrix:\")\n",
        "print(confusion_matrix(y_test, y_pred_dt))"
      ]
    },
    {
      "cell_type": "code",
      "execution_count": null,
      "metadata": {
        "id": "a4p84aA9EJLJ",
        "colab": {
          "base_uri": "https://localhost:8080/"
        },
        "outputId": "80d663e4-7565-4567-d0f8-1c779d136627"
      },
      "outputs": [
        {
          "output_type": "stream",
          "name": "stdout",
          "text": [
            "Random Forest Classification Report:\n",
            "              precision    recall  f1-score   support\n",
            "\n",
            "      Normal       0.93      0.95      0.94     66365\n",
            "       Theft       0.93      0.90      0.91     45766\n",
            "\n",
            "    accuracy                           0.93    112131\n",
            "   macro avg       0.93      0.93      0.93    112131\n",
            "weighted avg       0.93      0.93      0.93    112131\n",
            "\n",
            "\n",
            "Confusion Matrix:\n",
            "[[63124  3241]\n",
            " [ 4562 41204]]\n"
          ]
        }
      ],
      "source": [
        "# Random Forest\n",
        "\n",
        "from sklearn.ensemble import RandomForestClassifier\n",
        "\n",
        "rf_model = RandomForestClassifier(random_state=42, n_jobs=-1)\n",
        "\n",
        "rf_model.fit(X_train, y_train)\n",
        "\n",
        "y_pred_rf = rf_model.predict(X_test)\n",
        "\n",
        "print(\"Random Forest Classification Report:\")\n",
        "print(classification_report(y_test, y_pred_rf, target_names=[\"Normal\", \"Theft\"]))\n",
        "print(\"\\nConfusion Matrix:\")\n",
        "print(confusion_matrix(y_test, y_pred_rf))"
      ]
    },
    {
      "cell_type": "code",
      "execution_count": null,
      "metadata": {
        "colab": {
          "base_uri": "https://localhost:8080/"
        },
        "id": "Jj9pyLhfGmDr",
        "outputId": "b5553ad7-61bb-4361-ac64-f0d0577a0ef5"
      },
      "outputs": [
        {
          "name": "stdout",
          "output_type": "stream",
          "text": [
            "Naive Bayes Classification Report:\n",
            "              precision    recall  f1-score   support\n",
            "\n",
            "      Normal       0.62      1.00      0.76     66365\n",
            "       Theft       1.00      0.11      0.19     45766\n",
            "\n",
            "    accuracy                           0.64    112131\n",
            "   macro avg       0.81      0.55      0.48    112131\n",
            "weighted avg       0.77      0.64      0.53    112131\n",
            "\n",
            "\n",
            "Confusion Matrix:\n",
            "[[66365     0]\n",
            " [40894  4872]]\n",
            "Accuracy of GaussianNB classifier on training set: 0.635482\n",
            "Accuracy of GaussianNB classifier on test set: 0.635302\n"
          ]
        }
      ],
      "source": [
        "# Naive Bayes\n",
        "\n",
        "from sklearn.naive_bayes import GaussianNB\n",
        "\n",
        "nb_model = GaussianNB()\n",
        "\n",
        "nb_model.fit(X_train, y_train)\n",
        "\n",
        "y_pred_nb = nb_model.predict(X_test)\n",
        "\n",
        "print(\"Naive Bayes Classification Report:\")\n",
        "print(classification_report(y_test, y_pred_nb, target_names=[\"Normal\", \"Theft\"]))\n",
        "print(\"\\nConfusion Matrix:\")\n",
        "print(confusion_matrix(y_test, y_pred_nb))\n",
        "\n",
        "print('Accuracy of GaussianNB classifier on training set: {:.6f}'\n",
        "     .format(nb_model.score(X_train, y_train)))\n",
        "print('Accuracy of GaussianNB classifier on test set: {:.6f}'\n",
        "     .format(nb_model.score(X_test, y_test)))"
      ]
    },
    {
      "cell_type": "code",
      "execution_count": null,
      "metadata": {
        "colab": {
          "base_uri": "https://localhost:8080/"
        },
        "id": "-wxlToCTIssk",
        "outputId": "228dc27a-a6af-40e1-c3ec-50ce51df5b23"
      },
      "outputs": [
        {
          "data": {
            "text/plain": [
              "0.7973174233708787"
            ]
          },
          "execution_count": 15,
          "metadata": {},
          "output_type": "execute_result"
        }
      ],
      "source": [
        "# SVM with Linear Kernel\n",
        "\n",
        "from sklearn.svm import SVC\n",
        "\n",
        "clf = SVC(kernel = 'linear')\n",
        "clf.fit(X_train, y_train)\n",
        "clf.score(X_test, y_test)"
      ]
    },
    {
      "cell_type": "code",
      "execution_count": null,
      "metadata": {
        "colab": {
          "base_uri": "https://localhost:8080/"
        },
        "id": "r9uzW41a-PA0",
        "outputId": "6061290d-a526-4548-da97-288c19de6ce5"
      },
      "outputs": [
        {
          "name": "stdout",
          "output_type": "stream",
          "text": [
            "SVM Classification Report:\n",
            "              precision    recall  f1-score   support\n",
            "\n",
            "      Normal       0.76      0.95      0.85     66365\n",
            "       Theft       0.89      0.58      0.70     45766\n",
            "\n",
            "    accuracy                           0.80    112131\n",
            "   macro avg       0.83      0.76      0.77    112131\n",
            "weighted avg       0.81      0.80      0.79    112131\n",
            "\n",
            "\n",
            "Confusion Matrix:\n",
            "[[63020  3345]\n",
            " [19382 26384]]\n"
          ]
        }
      ],
      "source": [
        "y_pred_svm = clf.predict(X_test)\n",
        "\n",
        "print(\"SVM Classification Report:\")\n",
        "print(classification_report(y_test, y_pred_svm, target_names=[\"Normal\", \"Theft\"]))\n",
        "print(\"\\nConfusion Matrix:\")\n",
        "print(confusion_matrix(y_test, y_pred_svm))"
      ]
    },
    {
      "cell_type": "code",
      "execution_count": null,
      "metadata": {
        "colab": {
          "base_uri": "https://localhost:8080/"
        },
        "id": "DzJskdr3J7Mq",
        "outputId": "b3921c40-12a0-495c-b828-dff6eeab6df9"
      },
      "outputs": [
        {
          "name": "stdout",
          "output_type": "stream",
          "text": [
            "rbf accuracy: \n",
            "0.9097662555403947\n"
          ]
        }
      ],
      "source": [
        "# SVM with RBF Kernel\n",
        "\n",
        "clf = SVC(kernel = 'rbf')\n",
        "clf.fit(X_train, y_train)\n",
        "print (\"rbf accuracy: \")\n",
        "print (clf.score(X_test, y_test))"
      ]
    },
    {
      "cell_type": "code",
      "execution_count": null,
      "metadata": {
        "colab": {
          "base_uri": "https://localhost:8080/"
        },
        "id": "mqSKzTGQ2Fiq",
        "outputId": "7f0e129e-8530-4499-b9f5-6b04598de734"
      },
      "outputs": [
        {
          "name": "stdout",
          "output_type": "stream",
          "text": [
            "SVM Classification Report:\n",
            "              precision    recall  f1-score   support\n",
            "\n",
            "      Normal       0.87      0.99      0.93     66365\n",
            "       Theft       0.99      0.79      0.88     45766\n",
            "\n",
            "    accuracy                           0.91    112131\n",
            "   macro avg       0.93      0.89      0.90    112131\n",
            "weighted avg       0.92      0.91      0.91    112131\n",
            "\n",
            "\n",
            "Confusion Matrix:\n",
            "[[65960   405]\n",
            " [ 9713 36053]]\n"
          ]
        }
      ],
      "source": [
        "y_pred_svm = clf.predict(X_test)\n",
        "\n",
        "print(\"SVM Classification Report:\")\n",
        "print(classification_report(y_test, y_pred_svm, target_names=[\"Normal\", \"Theft\"]))\n",
        "print(\"\\nConfusion Matrix:\")\n",
        "print(confusion_matrix(y_test, y_pred_svm))"
      ]
    },
    {
      "cell_type": "code",
      "execution_count": null,
      "metadata": {
        "colab": {
          "base_uri": "https://localhost:8080/"
        },
        "id": "QC6CjwMqKq18",
        "outputId": "3ab5a478-7c8c-4736-87e8-139b9caf0130"
      },
      "outputs": [
        {
          "name": "stdout",
          "output_type": "stream",
          "text": [
            "poly accuracy: \n",
            "0.8927326073967057\n"
          ]
        }
      ],
      "source": [
        "# SVM with Poly Kernel\n",
        "\n",
        "clf = SVC(kernel = 'poly', degree = 3)\n",
        "clf.fit(X_train, y_train)\n",
        "print (\"poly accuracy: \")\n",
        "print (clf.score(X_test, y_test))"
      ]
    },
    {
      "cell_type": "code",
      "execution_count": null,
      "metadata": {
        "colab": {
          "base_uri": "https://localhost:8080/"
        },
        "id": "PAKTjVP42TgK",
        "outputId": "02d482f6-ba2c-4259-ed5e-3d70bd565dbf"
      },
      "outputs": [
        {
          "name": "stdout",
          "output_type": "stream",
          "text": [
            "SVM Classification Report:\n",
            "              precision    recall  f1-score   support\n",
            "\n",
            "      Normal       0.86      0.99      0.92     66365\n",
            "       Theft       0.97      0.76      0.85     45766\n",
            "\n",
            "    accuracy                           0.89    112131\n",
            "   macro avg       0.91      0.87      0.88    112131\n",
            "weighted avg       0.90      0.89      0.89    112131\n",
            "\n",
            "\n",
            "Confusion Matrix:\n",
            "[[65377   988]\n",
            " [11040 34726]]\n"
          ]
        }
      ],
      "source": [
        "y_pred_svm = clf.predict(X_test)\n",
        "\n",
        "print(\"SVM Classification Report:\")\n",
        "print(classification_report(y_test, y_pred_svm, target_names=[\"Normal\", \"Theft\"]))\n",
        "print(\"\\nConfusion Matrix:\")\n",
        "print(confusion_matrix(y_test, y_pred_svm))"
      ]
    },
    {
      "cell_type": "code",
      "execution_count": null,
      "metadata": {
        "colab": {
          "base_uri": "https://localhost:8080/"
        },
        "id": "1vEH9-3hK37r",
        "outputId": "13b9fff2-2f5f-4d0f-ddde-88affcc36291"
      },
      "outputs": [
        {
          "output_type": "stream",
          "name": "stdout",
          "text": [
            "Sigmoid accuracy: \n",
            "0.5463163621121724\n"
          ]
        }
      ],
      "source": [
        "from sklearn.svm import SVC\n",
        "\n",
        "# using Sigmoid Kernel\n",
        "clf = SVC(kernel = 'sigmoid')\n",
        "clf.fit(X_train, y_train)\n",
        "print (\"Sigmoid accuracy: \")\n",
        "print (clf.score(X_test, y_test))"
      ]
    },
    {
      "cell_type": "markdown",
      "source": [
        "Second Part: KNN, Linear Regression, Logistic Regression, Neural Network"
      ],
      "metadata": {
        "id": "FGfOKRBEzxj_"
      }
    },
    {
      "cell_type": "code",
      "source": [
        "import pandas as pd\n",
        "from sklearn.model_selection import train_test_split\n",
        "from sklearn.preprocessing import StandardScaler\n",
        "from sklearn.neighbors import KNeighborsClassifier\n",
        "from sklearn.metrics import classification_report, confusion_matrix\n",
        "\n",
        "\n",
        "df = pd.read_csv(\"cleaned_oedi_dataset.csv\") # this to load the file\n",
        "\n",
        "df = df.replace({True: 1, False: 0}) # converts the true/false into boolean values\n",
        "\n",
        "df = df.dropna(subset=['theft_binary']) # removes any rows with missing target values\n",
        "\n",
        "X = df.drop(columns=[\"theft_binary\"])\n",
        "y = df[\"theft_binary\"] #removes theft binary from dataset and only leaves features so model can start predicting\n",
        "\n",
        "scaler = StandardScaler()\n",
        "X_scaled = scaler.fit_transform(X) #standardizes features\n",
        "\n",
        "X_train, X_test, y_train, y_test = train_test_split(\n",
        "    X_scaled, y, test_size=0.2, random_state=42, stratify=y\n",
        ")\n",
        "\n",
        "knn = KNeighborsClassifier(n_neighbors=5)\n",
        "knn.fit(X_train, y_train) # training for our model\n",
        "\n",
        "y_pred = knn.predict(X_test) #predicts and evaluates\n",
        "\n",
        "print(\"Confusion Matrix:\\n\", confusion_matrix(y_test, y_pred))\n",
        "print(\"\\nClassification Report:\\n\", classification_report(y_test, y_pred))\n"
      ],
      "metadata": {
        "colab": {
          "base_uri": "https://localhost:8080/"
        },
        "id": "f4A0d0WyLCyH",
        "outputId": "9c8286e6-20f8-4394-fe9a-5f5882d2e7ee"
      },
      "execution_count": null,
      "outputs": [
        {
          "output_type": "stream",
          "name": "stderr",
          "text": [
            "<ipython-input-7-c490953d7dbc>:10: FutureWarning: Downcasting behavior in `replace` is deprecated and will be removed in a future version. To retain the old behavior, explicitly call `result.infer_objects(copy=False)`. To opt-in to the future behavior, set `pd.set_option('future.no_silent_downcasting', True)`\n",
            "  df = df.replace({True: 1, False: 0}) # converts the true/false into boolean values\n"
          ]
        },
        {
          "output_type": "stream",
          "name": "stdout",
          "text": [
            "Confusion Matrix:\n",
            " [[66096   269]\n",
            " [ 4816 40950]]\n",
            "\n",
            "Classification Report:\n",
            "               precision    recall  f1-score   support\n",
            "\n",
            "           0       0.93      1.00      0.96     66365\n",
            "           1       0.99      0.89      0.94     45766\n",
            "\n",
            "    accuracy                           0.95    112131\n",
            "   macro avg       0.96      0.95      0.95    112131\n",
            "weighted avg       0.96      0.95      0.95    112131\n",
            "\n"
          ]
        }
      ]
    },
    {
      "cell_type": "code",
      "source": [
        "\n",
        "import pandas as pd\n",
        "import numpy as np\n",
        "from sklearn.model_selection import train_test_split\n",
        "from sklearn.preprocessing import StandardScaler\n",
        "from sklearn.linear_model import LogisticRegression\n",
        "from sklearn.metrics import classification_report, confusion_matrix\n",
        "\n",
        "df = pd.read_csv(\"cleaned_oedi_dataset.csv\")\n",
        "\n",
        "df = df.replace({True: 1, False: 0})\n",
        "\n",
        "df = df.dropna(subset=['theft_binary'])\n",
        "\n",
        "X = df.drop(columns=[\"theft_binary\"]).astype(np.float32)\n",
        "y = df[\"theft_binary\"]\n",
        "\n",
        "scaler = StandardScaler()\n",
        "X_scaled = scaler.fit_transform(X)\n",
        "# all of the above are common in all models where we preprocess our data\n",
        "\n",
        "X_train, X_test, y_train, y_test = train_test_split(\n",
        "    X_scaled, y, test_size=0.2, random_state=42, stratify=y\n",
        ") # data is being trained and tested in 80/20 split\n",
        "\n",
        "\n",
        "logreg = LogisticRegression(max_iter=1000)\n",
        "logreg.fit(X_train, y_train) # model is trained\n",
        "\n",
        "y_pred = logreg.predict(X_test) # model predicts and evaluates\n",
        "\n",
        "print(\"Confusion Matrix:\\n\", confusion_matrix(y_test, y_pred))\n",
        "print(\"\\nClassification Report:\\n\", classification_report(y_test, y_pred))\n"
      ],
      "metadata": {
        "colab": {
          "base_uri": "https://localhost:8080/"
        },
        "id": "njMtndijN96H",
        "outputId": "84c0d113-ed73-4e44-a8d3-13fd9d36918b"
      },
      "execution_count": null,
      "outputs": [
        {
          "output_type": "stream",
          "name": "stderr",
          "text": [
            "<ipython-input-4-c087cba34702>:10: FutureWarning: Downcasting behavior in `replace` is deprecated and will be removed in a future version. To retain the old behavior, explicitly call `result.infer_objects(copy=False)`. To opt-in to the future behavior, set `pd.set_option('future.no_silent_downcasting', True)`\n",
            "  df = df.replace({True: 1, False: 0})\n"
          ]
        },
        {
          "output_type": "stream",
          "name": "stdout",
          "text": [
            "Confusion Matrix:\n",
            " [[60411  5954]\n",
            " [17457 28309]]\n",
            "\n",
            "Classification Report:\n",
            "               precision    recall  f1-score   support\n",
            "\n",
            "           0       0.78      0.91      0.84     66365\n",
            "           1       0.83      0.62      0.71     45766\n",
            "\n",
            "    accuracy                           0.79    112131\n",
            "   macro avg       0.80      0.76      0.77    112131\n",
            "weighted avg       0.80      0.79      0.78    112131\n",
            "\n"
          ]
        }
      ]
    },
    {
      "cell_type": "code",
      "source": [
        "\n",
        "import pandas as pd\n",
        "import numpy as np\n",
        "from sklearn.model_selection import train_test_split\n",
        "from sklearn.preprocessing import StandardScaler\n",
        "from sklearn.linear_model import LinearRegression\n",
        "from sklearn.metrics import confusion_matrix, classification_report\n",
        "\n",
        "df = pd.read_csv(\"cleaned_oedi_dataset.csv\")\n",
        "df = df.replace({True: 1, False: 0})\n",
        "df = df.dropna(subset=['theft_binary'])\n",
        "X = df.drop(columns=[\"theft_binary\"]).astype(np.float32)\n",
        "y = df[\"theft_binary\"]\n",
        "scaler = StandardScaler()\n",
        "X_scaled = scaler.fit_transform(X)\n",
        "# our standard steps\n",
        "\n",
        "X_train, X_test, y_train, y_test = train_test_split(\n",
        "    X_scaled, y, test_size=0.2, random_state=42, stratify=y\n",
        ") # train and test split for model\n",
        "\n",
        "linreg = LinearRegression()\n",
        "linreg.fit(X_train, y_train) #training for model\n",
        "\n",
        "y_pred_continuous = linreg.predict(X_test)\n",
        "y_pred = (y_pred_continuous >= 0.5).astype(int)# predicts the continuous values and rounds them to 0/1\n",
        "\n",
        "print(\"Confusion Matrix:\\n\", confusion_matrix(y_test, y_pred))\n",
        "print(\"\\nClassification Report:\\n\", classification_report(y_test, y_pred))\n"
      ],
      "metadata": {
        "colab": {
          "base_uri": "https://localhost:8080/"
        },
        "id": "C13itjeNOlXA",
        "outputId": "d85806df-27a1-4fe4-8000-31aa914042f3"
      },
      "execution_count": null,
      "outputs": [
        {
          "output_type": "stream",
          "name": "stderr",
          "text": [
            "<ipython-input-5-114099d6ce3a>:11: FutureWarning: Downcasting behavior in `replace` is deprecated and will be removed in a future version. To retain the old behavior, explicitly call `result.infer_objects(copy=False)`. To opt-in to the future behavior, set `pd.set_option('future.no_silent_downcasting', True)`\n",
            "  df = df.replace({True: 1, False: 0})\n"
          ]
        },
        {
          "output_type": "stream",
          "name": "stdout",
          "text": [
            "Confusion Matrix:\n",
            " [[65187  1178]\n",
            " [25564 20202]]\n",
            "\n",
            "Classification Report:\n",
            "               precision    recall  f1-score   support\n",
            "\n",
            "           0       0.72      0.98      0.83     66365\n",
            "           1       0.94      0.44      0.60     45766\n",
            "\n",
            "    accuracy                           0.76    112131\n",
            "   macro avg       0.83      0.71      0.72    112131\n",
            "weighted avg       0.81      0.76      0.74    112131\n",
            "\n"
          ]
        }
      ]
    },
    {
      "cell_type": "code",
      "source": [
        "import pandas as pd\n",
        "import numpy as np\n",
        "from sklearn.model_selection import train_test_split\n",
        "from sklearn.preprocessing import StandardScaler\n",
        "from sklearn.metrics import confusion_matrix, classification_report\n",
        "\n",
        "import tensorflow as tf\n",
        "from tensorflow.keras.models import Sequential\n",
        "from tensorflow.keras.layers import Dense\n",
        "\n",
        "df = pd.read_csv(\"cleaned_oedi_dataset.csv\")\n",
        "df = df.replace({True: 1, False: 0})\n",
        "df = df.dropna(subset=['theft_binary'])\n",
        "X = df.drop(columns=[\"theft_binary\"]).astype(np.float32)\n",
        "y = df[\"theft_binary\"]\n",
        "scaler = StandardScaler()\n",
        "X_scaled = scaler.fit_transform(X)\n",
        "\n",
        "X_train, X_test, y_train, y_test = train_test_split(\n",
        "    X_scaled, y, test_size=0.2, random_state=42, stratify=y\n",
        ") # train test split\n",
        "\n",
        "model = Sequential([\n",
        "    Dense(64, activation='relu', input_shape=(X_train.shape[1],)), # first layer is 64 neurons and uses RELU activation\n",
        "    Dense(32, activation='relu'), # second layer 32 neurons and RELU activation\n",
        "    Dense(1, activation='sigmoid')  #final layer with 1 neuron and sigmoid function so values are between 0,1\n",
        "])\n",
        "\n",
        "model.compile(optimizer='adam', loss='binary_crossentropy', metrics=['accuracy']) # model is compiled\n",
        "\n",
        "history = model.fit(X_train, y_train, validation_split=0.2, epochs=10, batch_size=256, verbose=1) #model training\n",
        "\n",
        "y_pred_prob = model.predict(X_test)\n",
        "y_pred = (y_pred_prob >= 0.5).astype(int) #predicts and evaluates\n",
        "\n",
        "print(\"Confusion Matrix:\\n\", confusion_matrix(y_test, y_pred))\n",
        "print(\"\\nClassification Report:\\n\", classification_report(y_test, y_pred))\n"
      ],
      "metadata": {
        "colab": {
          "base_uri": "https://localhost:8080/"
        },
        "id": "2aAriY10PGrc",
        "outputId": "d4cacc37-bfea-4a34-ec24-c4d741b5df34"
      },
      "execution_count": null,
      "outputs": [
        {
          "output_type": "stream",
          "name": "stderr",
          "text": [
            "<ipython-input-6-1b617e725ffd>:14: FutureWarning: Downcasting behavior in `replace` is deprecated and will be removed in a future version. To retain the old behavior, explicitly call `result.infer_objects(copy=False)`. To opt-in to the future behavior, set `pd.set_option('future.no_silent_downcasting', True)`\n",
            "  df = df.replace({True: 1, False: 0})\n",
            "/usr/local/lib/python3.11/dist-packages/keras/src/layers/core/dense.py:87: UserWarning: Do not pass an `input_shape`/`input_dim` argument to a layer. When using Sequential models, prefer using an `Input(shape)` object as the first layer in the model instead.\n",
            "  super().__init__(activity_regularizer=activity_regularizer, **kwargs)\n"
          ]
        },
        {
          "output_type": "stream",
          "name": "stdout",
          "text": [
            "Epoch 1/10\n",
            "\u001b[1m1402/1402\u001b[0m \u001b[32m━━━━━━━━━━━━━━━━━━━━\u001b[0m\u001b[37m\u001b[0m \u001b[1m6s\u001b[0m 4ms/step - accuracy: 0.7798 - loss: 0.4706 - val_accuracy: 0.8782 - val_loss: 0.3262\n",
            "Epoch 2/10\n",
            "\u001b[1m1402/1402\u001b[0m \u001b[32m━━━━━━━━━━━━━━━━━━━━\u001b[0m\u001b[37m\u001b[0m \u001b[1m10s\u001b[0m 3ms/step - accuracy: 0.8829 - loss: 0.3134 - val_accuracy: 0.9018 - val_loss: 0.2780\n",
            "Epoch 3/10\n",
            "\u001b[1m1402/1402\u001b[0m \u001b[32m━━━━━━━━━━━━━━━━━━━━\u001b[0m\u001b[37m\u001b[0m \u001b[1m4s\u001b[0m 3ms/step - accuracy: 0.9016 - loss: 0.2787 - val_accuracy: 0.9095 - val_loss: 0.2603\n",
            "Epoch 4/10\n",
            "\u001b[1m1402/1402\u001b[0m \u001b[32m━━━━━━━━━━━━━━━━━━━━\u001b[0m\u001b[37m\u001b[0m \u001b[1m10s\u001b[0m 6ms/step - accuracy: 0.9097 - loss: 0.2602 - val_accuracy: 0.9144 - val_loss: 0.2485\n",
            "Epoch 5/10\n",
            "\u001b[1m1402/1402\u001b[0m \u001b[32m━━━━━━━━━━━━━━━━━━━━\u001b[0m\u001b[37m\u001b[0m \u001b[1m6s\u001b[0m 3ms/step - accuracy: 0.9143 - loss: 0.2500 - val_accuracy: 0.9194 - val_loss: 0.2421\n",
            "Epoch 6/10\n",
            "\u001b[1m1402/1402\u001b[0m \u001b[32m━━━━━━━━━━━━━━━━━━━━\u001b[0m\u001b[37m\u001b[0m \u001b[1m6s\u001b[0m 5ms/step - accuracy: 0.9192 - loss: 0.2402 - val_accuracy: 0.9230 - val_loss: 0.2341\n",
            "Epoch 7/10\n",
            "\u001b[1m1402/1402\u001b[0m \u001b[32m━━━━━━━━━━━━━━━━━━━━\u001b[0m\u001b[37m\u001b[0m \u001b[1m5s\u001b[0m 4ms/step - accuracy: 0.9217 - loss: 0.2353 - val_accuracy: 0.9227 - val_loss: 0.2335\n",
            "Epoch 8/10\n",
            "\u001b[1m1402/1402\u001b[0m \u001b[32m━━━━━━━━━━━━━━━━━━━━\u001b[0m\u001b[37m\u001b[0m \u001b[1m7s\u001b[0m 5ms/step - accuracy: 0.9244 - loss: 0.2311 - val_accuracy: 0.9277 - val_loss: 0.2245\n",
            "Epoch 9/10\n",
            "\u001b[1m1402/1402\u001b[0m \u001b[32m━━━━━━━━━━━━━━━━━━━━\u001b[0m\u001b[37m\u001b[0m \u001b[1m7s\u001b[0m 5ms/step - accuracy: 0.9276 - loss: 0.2258 - val_accuracy: 0.9283 - val_loss: 0.2214\n",
            "Epoch 10/10\n",
            "\u001b[1m1402/1402\u001b[0m \u001b[32m━━━━━━━━━━━━━━━━━━━━\u001b[0m\u001b[37m\u001b[0m \u001b[1m7s\u001b[0m 5ms/step - accuracy: 0.9296 - loss: 0.2226 - val_accuracy: 0.9304 - val_loss: 0.2210\n",
            "\u001b[1m3505/3505\u001b[0m \u001b[32m━━━━━━━━━━━━━━━━━━━━\u001b[0m\u001b[37m\u001b[0m \u001b[1m4s\u001b[0m 1ms/step\n",
            "Confusion Matrix:\n",
            " [[65740   625]\n",
            " [ 7221 38545]]\n",
            "\n",
            "Classification Report:\n",
            "               precision    recall  f1-score   support\n",
            "\n",
            "           0       0.90      0.99      0.94     66365\n",
            "           1       0.98      0.84      0.91     45766\n",
            "\n",
            "    accuracy                           0.93    112131\n",
            "   macro avg       0.94      0.92      0.93    112131\n",
            "weighted avg       0.93      0.93      0.93    112131\n",
            "\n"
          ]
        }
      ]
    }
  ],
  "metadata": {
    "colab": {
      "provenance": [],
      "authorship_tag": "ABX9TyOIWDeL3ltrZ9eaIrkA5i+r",
      "include_colab_link": true
    },
    "kernelspec": {
      "display_name": "Python 3",
      "name": "python3"
    },
    "language_info": {
      "name": "python"
    }
  },
  "nbformat": 4,
  "nbformat_minor": 0
}